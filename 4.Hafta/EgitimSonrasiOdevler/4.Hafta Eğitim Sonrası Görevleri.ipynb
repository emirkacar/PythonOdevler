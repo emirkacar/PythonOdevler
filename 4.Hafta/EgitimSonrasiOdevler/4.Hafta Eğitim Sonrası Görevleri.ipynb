{
 "cells": [
  {
   "cell_type": "markdown",
   "metadata": {},
   "source": [
    "# Problem 1\n",
    "`ogrenciler` adında bir sözlük oluşturunuz. Kullanıcıdan döngü yardımıyla 3 öğrenci için veri girmesini isteyerek öğrencilerin sırasıyla okul numarası, isim, soy isim, telefon numarası ve doğum tarihi bilgilerini alınız. Aldığınız öğrenci bilgilerini yine aynı döngü yardımıyla `ogrenciler` adındaki sözlükte saklayınız. Daha sonra öğrenci bilgilerinin bulunduğu sözlük yapısını ekrana bastırınız.\n",
    "\n"
   ]
  },
  {
   "cell_type": "code",
   "execution_count": 6,
   "metadata": {},
   "outputs": [
    {
     "name": "stdout",
     "output_type": "stream",
     "text": [
      "[{'No': 150, 'Isim': 'Emir', 'SoyIsim': 'Kacar', 'Telefon no': '1111111111', 'Dogum tarihi': '20092001'}, {'No': 151, 'Isim': 'Ahmet', 'SoyIsim': 'Seker', 'Telefon no': '22222222', 'Dogum tarihi': '21092001'}, {'No': 152, 'Isim': 'Mehmet', 'SoyIsim': 'Yagiz', 'Telefon no': '33333333333', 'Dogum tarihi': '22092001'}]\n"
     ]
    }
   ],
   "source": [
    "ogrenciler = {}\n",
    "n = int(input(\"Kac ogrenci icin veri alicaksiniz ? \"))\n",
    "bilgiler = []\n",
    "\n",
    "\n",
    "for i in range(n):\n",
    "    no = int(input(\"No: \"))\n",
    "    isim = input(\"Isim: \")\n",
    "    soyisim = input(\"SoyIsim: \")\n",
    "    telefonno = input(\"Telefon no:\")\n",
    "    dogumTarihi =input(\"Dogum tarihi : \")\n",
    "\n",
    "    ogrenci = {\n",
    "        \"No\" : no,\n",
    "        \"Isim\" : isim,\n",
    "        \"SoyIsim\" : soyisim,\n",
    "        \"Telefon no\" : telefonno,\n",
    "        \"Dogum tarihi\" : dogumTarihi\n",
    "    }\n",
    "\n",
    "    bilgiler.append(ogrenci)\n",
    "\n",
    "\n",
    "print(bilgiler)\n",
    "\n",
    "\n",
    "\n",
    "\n",
    "    \n",
    "\n",
    "\n",
    "\n",
    "\n",
    "    \n",
    "\n",
    "\n",
    "\n",
    "\n",
    "\n",
    "\n",
    "    \n",
    "    \n",
    "\n",
    "\n"
   ]
  },
  {
   "cell_type": "markdown",
   "metadata": {},
   "source": [
    "# Problem 2\n",
    "\n",
    "### a - Biraz ısınarak başlayalım!\n",
    "\n",
    "```\n",
    "numbers = [5,10,10,15,15,15,20,20,20,20]\n",
    "```\n",
    "\n",
    "Yukarıda `numbers` adında 10 elemanlı bir liste verilmiştir. Bu listenin her elemanını kontrol eden ve tekrar eden elemanları bir kez olacak şekilde başka bir listeye kopyalayan bir program yazınız. Son olarak oluşturduğunuz listeyi ekrana bastırınız.\n",
    "\n",
    "\n",
    "\n",
    "\n",
    "```\n",
    ">Output\n",
    "[5, 10, 15, 20]\n",
    "```\n"
   ]
  },
  {
   "cell_type": "code",
   "execution_count": 9,
   "metadata": {},
   "outputs": [
    {
     "name": "stdout",
     "output_type": "stream",
     "text": [
      "[5, 10, 15, 20]\n"
     ]
    }
   ],
   "source": [
    "numbers = [5,10,10,15,15,15,20,20,20,20]\n",
    "list = []\n",
    "for i in range(len(numbers)):\n",
    "    if(numbers[i] not in list):\n",
    "        list.append(numbers[i])\n",
    "print(list)\n",
    "\n",
    "\n",
    "    \n",
    "\n",
    "\n",
    "\n",
    "\n"
   ]
  },
  {
   "cell_type": "markdown",
   "metadata": {},
   "source": [
    "### 🌶️ b) Hadi işi biraz daha zorlaştıralım! \n",
    "\n",
    "\n",
    "Şimdiyse senden `numbers` isimli listedeki tekrar eden elemanları `repeatNumbers` adındaki listeye; tekrar etmeyen elemanları `uniqueNumbers`adındaki listeye kopyalayan yazmanı ve listeleri ekrana bastırmanı bekliyoruz\n",
    "\n",
    "```\n",
    ">Output\n",
    "Tekrar Eden Elemanlar: [10, 10, 15, 15, 15, 20, 20, 20, 20]\n",
    "Tekrar Etmeyen Elemanlar: [5]\n",
    "```"
   ]
  },
  {
   "cell_type": "code",
   "execution_count": null,
   "metadata": {},
   "outputs": [],
   "source": []
  },
  {
   "cell_type": "code",
   "execution_count": 56,
   "metadata": {},
   "outputs": [
    {
     "name": "stdout",
     "output_type": "stream",
     "text": [
      "Tekrar eden elemanlar =  [10, 15, 20]\n",
      "Tekrar etmeyen elemanlar =  [5]\n"
     ]
    }
   ],
   "source": [
    "numbers = [5,10,10,15,15,15,20,20,20,20]\n",
    "repeatNumbers = []\n",
    "uniqueNumbers = []\n",
    "\n",
    "for i in numbers:\n",
    "    if(numbers.count(i) > 1):\n",
    "        if(i not in repeatNumbers):\n",
    "            repeatNumbers.append(i)\n",
    "    else:\n",
    "        if(i not in uniqueNumbers):\n",
    "            uniqueNumbers.append(i)\n",
    "\n",
    "print(\"Tekrar eden elemanlar = \",repeatNumbers)\n",
    "print(\"Tekrar etmeyen elemanlar = \",uniqueNumbers)\n",
    "\n",
    "\n",
    "    \n",
    "\n",
    "\n",
    "\n"
   ]
  },
  {
   "cell_type": "markdown",
   "metadata": {},
   "source": [
    "# Problem 3\n",
    "sn1 = {1,2,3,4,5}\n",
    "\n",
    "sn2 = {4,5,6,7,8}\n",
    "\n",
    " Verilen 2 adet küme için kesişimlerini, farklarını ve birleşimlerini bulunuz. "
   ]
  },
  {
   "cell_type": "code",
   "execution_count": 15,
   "metadata": {},
   "outputs": [
    {
     "name": "stdout",
     "output_type": "stream",
     "text": [
      "{4, 5}\n",
      "{1, 2, 3}\n",
      "{1, 2, 3, 4, 5, 6, 7, 8}\n"
     ]
    }
   ],
   "source": [
    "sn1 = {1,2,3,4,5}\n",
    "sn2= {4,5,6,7,8}\n",
    "\n",
    "print(sn1.intersection(sn2))\n",
    "print(sn1.difference(sn2))\n",
    "print(sn1.union(sn2))\n",
    "\n"
   ]
  },
  {
   "cell_type": "markdown",
   "metadata": {},
   "source": [
    "# Problem 4\n",
    "\n",
    "Buradaki işlemlerimizin tamamı stringler içindir. Aşağıda verilecek olan metodlar için kendinizin örnek yaratması gerekmektedir. \n",
    "\n",
    "Örneğin `upper` için `string` değişkeni oluştururken` k = \"BAC\"` şeklinde oluşturmayınız. Bunun yerine k değişkenini `k = \"bac`\" şeklinde oluşturmanız `upper` metodundaki değişimi görebilmeniz için daha iyi olacaktır.\n",
    "\n",
    "Bütün metodlardaki değişimin gözle görülür şekilde değişimi beklenmektedir.\n",
    "\n",
    "\n",
    "1- capitalize(), lower(), upper(), swapcase(), title(), replace()\n",
    "\n",
    "2- endswith(), startswith(), find(), index(), count()\n",
    "\n",
    "3- split(), strip(), join(), islower(), isalpha(), isdigit()\n",
    "\n",
    "\n",
    "Yukarıdaki `string` metodlarındaki değişimleri görebildiğimiz bir program yazınız.\n"
   ]
  },
  {
   "cell_type": "code",
   "execution_count": 40,
   "metadata": {},
   "outputs": [
    {
     "name": "stdout",
     "output_type": "stream",
     "text": [
      "Bac\n",
      "bac\n",
      "BAC\n",
      "mY nAmE iS eMIr\n",
      "My Name Is Emir\n",
      "Benim\n",
      "True\n",
      "True\n",
      "7\n",
      "0\n",
      "1\n",
      "['123']\n",
      "Adim Emir\n",
      "E+m+i+r\n",
      "False\n",
      "True\n",
      "False\n"
     ]
    }
   ],
   "source": [
    "k = \"bac\" \n",
    "print(k.capitalize())\n",
    "c = \"BAC\"  \n",
    "print(c.lower())\n",
    "print(k.upper())\n",
    "y = \"My NaMe Is EmiR\"\n",
    "x = y.swapcase()\n",
    "print(x)\n",
    "print(x.title())\n",
    "x = \"My\"\n",
    "m = x.replace(\"My\",\"Benim\")\n",
    "print(m)\n",
    "\n",
    "txt = \"Hello, welcome to my world.\"\n",
    "print(txt.endswith(\".\"))\n",
    "print(txt.startswith(\"H\"))\n",
    "print(txt.find(\"welcome\"))\n",
    "print(txt.index(\"Hello\"))\n",
    "print(txt.count(\"welcome\"))\n",
    "\n",
    "a = \"123\"\n",
    "print(a.split())\n",
    "a = \"     Adim Emir    \"\n",
    "print(a.strip())\n",
    "string = \"Emir\"\n",
    "x = \"+\".join(string)\n",
    "print(x)\n",
    "\n",
    "print(string.islower())\n",
    "print(string.isalpha())\n",
    "print(string.isdigit())\n",
    "\n",
    "\n",
    "\n",
    "\n",
    "\n",
    "\n",
    "\n",
    "\n"
   ]
  }
 ],
 "metadata": {
  "kernelspec": {
   "display_name": "Python 3.10.5 64-bit",
   "language": "python",
   "name": "python3"
  },
  "language_info": {
   "codemirror_mode": {
    "name": "ipython",
    "version": 3
   },
   "file_extension": ".py",
   "mimetype": "text/x-python",
   "name": "python",
   "nbconvert_exporter": "python",
   "pygments_lexer": "ipython3",
   "version": "3.12.3"
  },
  "orig_nbformat": 4,
  "vscode": {
   "interpreter": {
    "hash": "5026d2d6e7aaaaba093def813beadff083d8733e4a511af01735cbabd156995d"
   }
  }
 },
 "nbformat": 4,
 "nbformat_minor": 2
}
