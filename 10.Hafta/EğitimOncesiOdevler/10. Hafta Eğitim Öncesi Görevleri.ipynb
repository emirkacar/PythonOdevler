{
 "cells": [
  {
   "attachments": {},
   "cell_type": "markdown",
   "metadata": {},
   "source": [
    "# Problem 1"
   ]
  },
  {
   "cell_type": "code",
   "execution_count": 1,
   "metadata": {},
   "outputs": [
    {
     "name": "stdout",
     "output_type": "stream",
     "text": [
      "Orijinal matris: [9 3 3 8 0]\n",
      "Matrisin boyutu: (5,)\n",
      "Yeniden boyutlandirilmis matris: [[9 3 3 8 0]]\n",
      "Yeni matrisin boyut sayisi: 2\n"
     ]
    }
   ],
   "source": [
    "\n",
    "import numpy as np\n",
    "\n",
    "# 2 - 0 ile 10 arasinda 5 sayidan olusan matris\n",
    "matris = np.random.randint(0, 11, 5)\n",
    "print(\"Orijinal matris:\", matris)\n",
    "\n",
    "# 3 - matris'in boyutu\n",
    "boyut = matris.shape\n",
    "print(\"Matrisin boyutu:\", boyut)\n",
    "\n",
    "# 4 - matris'in yeniden boyutlandirilmasi\n",
    "yeniMatris = matris.reshape(1, 5)\n",
    "print(\"Yeniden boyutlandirilmis matris:\", yeniMatris)\n",
    "\n",
    "# 5 - matris'in boyut sayisi\n",
    "boyutSayisi = yeniMatris.ndim\n",
    "print(\"Yeni matrisin boyut sayisi:\", boyutSayisi)\n"
   ]
  },
  {
   "attachments": {},
   "cell_type": "markdown",
   "metadata": {},
   "source": [
    "# Problem 2"
   ]
  },
  {
   "cell_type": "code",
   "execution_count": 2,
   "metadata": {},
   "outputs": [
    {
     "name": "stdout",
     "output_type": "stream",
     "text": [
      "Orijinal matris: [[1 3 5 7 9]]\n",
      "Parça 1: [[1 3]]\n",
      "Parça 2: [[5 7]]\n",
      "Parça 3: [[9]]\n",
      "Birleştirilmiş matris: [[1 3 5 7 9]]\n"
     ]
    }
   ],
   "source": [
    "import numpy as np\n",
    "\n",
    "# 1 - 0 ile 10 arasında bulunan tek sayılardan oluşan matris\n",
    "tekSayilar = np.arange(1, 11, 2)\n",
    "matris = tekSayilar.reshape(1, 5)\n",
    "print(\"Orijinal matris:\", matris)\n",
    "\n",
    "# 2 - Oluşturduğunuz matrisin parcalanmasi\n",
    "parca1, parca2, parca3 = np.split(matris, [2, 4], axis=1)\n",
    "print(\"Parça 1:\", parca1)\n",
    "print(\"Parça 2:\", parca2)\n",
    "print(\"Parça 3:\", parca3)\n",
    "\n",
    "# 3 - Parçalanmış matrislerin birlesimi\n",
    "birlestirilmisMatris = np.concatenate((parca1, parca2, parca3), axis=1)\n",
    "print(\"Birleştirilmiş matris:\", birlestirilmisMatris)\n"
   ]
  },
  {
   "attachments": {},
   "cell_type": "markdown",
   "metadata": {},
   "source": [
    "# Problem 3"
   ]
  },
  {
   "cell_type": "code",
   "execution_count": 3,
   "metadata": {},
   "outputs": [
    {
     "name": "stdout",
     "output_type": "stream",
     "text": [
      "Olusturulan matris:\n",
      "[[77 33 23 39 21]\n",
      " [59 85 99 27 97]]\n",
      "\n",
      "Matris özellikleri:\n",
      "Boyut: (2, 5)\n",
      "Boyut sayisi: 2\n",
      "Veri tipi: int64\n",
      "Eleman sayisi: 10\n",
      "En küçük eleman: 21\n",
      "En büyük eleman: 99\n",
      "Ortalama: 56.0\n",
      "Standart sapma: 29.654679226051325\n",
      "Toplam: 560\n"
     ]
    }
   ],
   "source": [
    "import numpy as np\n",
    "\n",
    "# 1 - 5 ile 100 arasında ikiser ikiser atlayarak rastgele 10 sayıdan olusan matris \n",
    "sayilar = np.arange(5, 101, 2)\n",
    "matris = np.random.choice(sayilar, size=10, replace=False).reshape(2, 5)\n",
    "print(\"Olusturulan matris:\")\n",
    "print(matris)\n",
    "\n",
    "# 2 - matris'in ozellikleri\n",
    "print(\"\\nMatris özellikleri:\")\n",
    "print(\"Boyut:\", matris.shape)\n",
    "print(\"Boyut sayisi:\", matris.ndim)\n",
    "print(\"Veri tipi:\", matris.dtype)\n",
    "print(\"Eleman sayisi:\", matris.size)\n",
    "print(\"En küçük eleman:\", matris.min())\n",
    "print(\"En büyük eleman:\", matris.max())\n",
    "print(\"Ortalama:\", matris.mean())\n",
    "print(\"Standart sapma:\", matris.std())\n",
    "print(\"Toplam:\", matris.sum())"
   ]
  }
 ],
 "metadata": {
  "kernelspec": {
   "display_name": "Python 3",
   "language": "python",
   "name": "python3"
  },
  "language_info": {
   "codemirror_mode": {
    "name": "ipython",
    "version": 3
   },
   "file_extension": ".py",
   "mimetype": "text/x-python",
   "name": "python",
   "nbconvert_exporter": "python",
   "pygments_lexer": "ipython3",
   "version": "3.12.3"
  },
  "orig_nbformat": 4,
  "vscode": {
   "interpreter": {
    "hash": "5026d2d6e7aaaaba093def813beadff083d8733e4a511af01735cbabd156995d"
   }
  }
 },
 "nbformat": 4,
 "nbformat_minor": 2
}
