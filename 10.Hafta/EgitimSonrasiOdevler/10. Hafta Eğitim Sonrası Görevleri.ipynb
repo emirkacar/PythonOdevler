{
 "cells": [
  {
   "attachments": {},
   "cell_type": "markdown",
   "metadata": {},
   "source": [
    "# Problem 1 "
   ]
  },
  {
   "cell_type": "code",
   "execution_count": 6,
   "metadata": {},
   "outputs": [
    {
     "name": "stdout",
     "output_type": "stream",
     "text": [
      "[  1  -5 109  79  10]\n",
      "[ -5   1  10  79 109]\n"
     ]
    }
   ],
   "source": [
    "# 1 - numpy kütüphanesini import edin\n",
    "import numpy as np\n",
    "# 2 - 5 elemanlı bir numpy array oluşturun\n",
    "array=np.array([1,-5,109,79,10])\n",
    "print(array)\n",
    "# 3 - Oluşturduğunuz arrayi küçükten büyüğe sıralayın.\n",
    "kucuktenBuyuge=np.sort(array)\n",
    "print(kucuktenBuyuge)\n",
    "\n"
   ]
  },
  {
   "attachments": {},
   "cell_type": "markdown",
   "metadata": {},
   "source": [
    "# Problem 2"
   ]
  },
  {
   "cell_type": "code",
   "execution_count": null,
   "metadata": {},
   "outputs": [],
   "source": []
  },
  {
   "cell_type": "code",
   "execution_count": 71,
   "metadata": {},
   "outputs": [
    {
     "name": "stdout",
     "output_type": "stream",
     "text": [
      "[16 12 34 23 44 37 45 40 40 46 46 19 22 18 11]\n",
      "[[16 12 34 23 44]\n",
      " [37 45 40 40 46]\n",
      " [46 19 22 18 11]]\n",
      "[129 208 116]\n",
      "[ 99  76  96  81 101]\n",
      "\n",
      "Satir ve sutun sayi toplami:8\n",
      "Uretilen matrisin en buyuk elemani : 46\n",
      "Uretilen matrisin en kucuk elemani : 11\n",
      "Uretilen matrisin ortalamasi : 30.2\n",
      "[16 12 34 23 44 37 45 40 40 46 46 19 22 18 11]\n",
      "0\n",
      "[10 11 12 13 14 15 16 17 18 19 20]\n",
      "[10 11 12]\n",
      "[12 11 10]\n",
      "[12 11 10]\n",
      "[[1 2 3]\n",
      " [4 5 6]\n",
      " [7 8 9]]\n",
      "Uretilen matrisin 2.satir 3.sutunundaki eleman = 6 \n",
      "Dizinin eleman sayisi = 9\n",
      "Dizi:\n",
      "[[1 2 3]\n",
      " [4 5 6]\n",
      " [7 8 9]]\n",
      "[1 4 7]\n",
      "[[1 2 3]\n",
      " [4 5 6]\n",
      " [7 8 9]]\n",
      "[[ 1  4  9]\n",
      " [16 25 36]\n",
      " [49 64 81]]\n",
      "[-50 -49 -48 -47 -46 -45 -44 -43 -42 -41 -40 -39 -38 -37 -36 -35 -34 -33\n",
      " -32 -31 -30 -29 -28 -27 -26 -25 -24 -23 -22 -21 -20 -19 -18 -17 -16 -15\n",
      " -14 -13 -12 -11 -10  -9  -8  -7  -6  -5  -4  -3  -2  -1   0   1   2   3\n",
      "   4   5   6   7   8   9  10  11  12  13  14  15  16  17  18  19  20  21\n",
      "  22  23  24  25  26  27  28  29  30  31  32  33  34  35  36  37  38  39\n",
      "  40  41  42  43  44  45  46  47  48  49  50]\n",
      "[ 2  4  6  8 10 12 14 16 18 20 22 24 26 28 30 32 34 36 38 40 42 44 46 48\n",
      " 50]\n"
     ]
    }
   ],
   "source": [
    "# 1- (10,15,30,45,60) değerlerine sahip numpy dizisi oluşturunuz.\n",
    "import numpy as np\n",
    "\n",
    "arr=np.array([10,15,30,45,60])\n",
    "\n",
    "# 2- (5-15) arasındaki sayılarla numpy dizisi oluşturunuz.\n",
    "arr=np.arange(5,15,1)\n",
    "\n",
    "\n",
    "# 3- (50-100) arasında 5'er 5'er artarak numpy dizisi oluşturunuz.\n",
    "arr=np.arange(50,101,5)\n",
    "\n",
    "\n",
    "# 4- 10 elemanlı sıfırlardan oluşan bir dizi oluşturunuz.\n",
    "array=np.zeros(10)\n",
    "\n",
    "\n",
    "# 5- 10 elemanlı birlerden oluşan bir dizi oluşturunuz.\n",
    "array=np.ones(10)\n",
    "\n",
    "\n",
    "\n",
    "# 6- (0-100) arasında eşit aralıklı 5 sayı üretin.\n",
    "arr=np.arange(0,100,20)\n",
    "\n",
    "\n",
    "# 7- (10-30) arasında rastgele 5 tane tamsayı üretin.\n",
    "arr=np.random.randint(10,31,size=5)\n",
    "\n",
    "\n",
    "# 8- [-1 ile 1] arasında 10 adet sayı üretin.\n",
    "arr=np.random.randint(-1,1,size=10)\n",
    "\n",
    "\n",
    "\n",
    "# 9- (3x5) boyutlarında (10-50) arasında rastgele bir matris oluşturunuz.\n",
    "arr=np.random.randint(10,51,size=15)\n",
    "print(arr)\n",
    "yeniDizi=arr.reshape((3,5))\n",
    "print(yeniDizi)\n",
    "\n",
    "\n",
    "# 10- Üretilen matrisin satır ve sütun sayıları toplamlarını hesaplayınız ?\n",
    "satirToplami=yeniDizi.sum(axis=1)\n",
    "sutunToplami=yeniDizi.sum(axis=0)\n",
    "print(satirToplami)\n",
    "print(sutunToplami)\n",
    "print()\n",
    "satirSayisi=yeniDizi.shape[0]\n",
    "sutunSayisi = yeniDizi.shape[1]\n",
    "print(f\"Satir ve sutun sayi toplami:{satirSayisi+sutunSayisi}\")\n",
    "\n",
    "# 11- Üretilen matrisin en büyük, en küçük ve ortalaması nedir ?\n",
    "print(f\"Uretilen matrisin en buyuk elemani : {arr.max()}\")\n",
    "print(f\"Uretilen matrisin en kucuk elemani : {arr.min()}\")\n",
    "print(f\"Uretilen matrisin ortalamasi : {arr.mean()}\")\n",
    "# 12- Üretilen matrisin en büyük değerinin indeksi kaçtır ?\n",
    "print(arr)\n",
    "maksimumEleman=arr.max()\n",
    "maksimumElemaninIndexi=np.argmax(maksimumEleman)\n",
    "print(maksimumElemaninIndexi)\n",
    "\n",
    "# 13- (10-20) arasındaki sayıları içeren dizinin ilk 3 elemanını seçiniz.\n",
    "sayilar=np.arange(10,21,1)\n",
    "print(sayilar)\n",
    "ilkUcEleman=sayilar[:3]\n",
    "print(ilkUcEleman)\n",
    "\n",
    "# 14- Üretilen dizinin elemanlarını tersten yazdırın.\n",
    "tersDizi=ilkUcEleman[::-1]\n",
    "print(tersDizi)\n",
    "\n",
    "# 15- Üretilen matrisin ilk satırını seçiniz.\n",
    "ilkSatir=tersDizi[:]\n",
    "print(ilkSatir)\n",
    "\n",
    "\n",
    "# 16- Üretilen matrisin 2.satır 3.sütundaki elemanı hangisidir ?\n",
    "yeniDizi=np.arange(1,10)\n",
    "yeniBoyutlandirilmisDizi=yeniDizi.reshape((3,3))\n",
    "print(yeniBoyutlandirilmisDizi)\n",
    "arananEleman=yeniBoyutlandirilmisDizi[1,2]\n",
    "print(f\"Uretilen matrisin 2.satir 3.sutunundaki eleman = {arananEleman} \")\n",
    "\n",
    "\n",
    "# 17- Üretilen matrisin tüm satırlardaki ilk elemanı seçiniz.\n",
    "print(f\"Dizinin eleman sayisi = {yeniBoyutlandirilmisDizi.size}\")\n",
    "print(\"Dizi:\")\n",
    "print(yeniBoyutlandirilmisDizi)\n",
    "ilkElemanlar=yeniBoyutlandirilmisDizi[:,0]\n",
    "print(ilkElemanlar)\n",
    "\n",
    "# 18- Üretilen matrisin her bir elemanının karesini alınız.\n",
    "print(yeniBoyutlandirilmisDizi)\n",
    "herElemaninKaresi=yeniBoyutlandirilmisDizi**2\n",
    "print(herElemaninKaresi)\n",
    "\n",
    "\n",
    "# 19- Üretilen matris elemanlarının hangisi pozitif çift sayıdır ? Aralığı (-50,+50) arasında yapınız.\n",
    "yeniDizi=np.arange(-50,51,1)\n",
    "print(yeniDizi)\n",
    "pozitifCiftSayilar=yeniDizi[(yeniDizi>0) & (yeniDizi%2==0)]\n",
    "print(pozitifCiftSayilar)\n"
   ]
  }
 ],
 "metadata": {
  "kernelspec": {
   "display_name": "Python 3",
   "language": "python",
   "name": "python3"
  },
  "language_info": {
   "codemirror_mode": {
    "name": "ipython",
    "version": 3
   },
   "file_extension": ".py",
   "mimetype": "text/x-python",
   "name": "python",
   "nbconvert_exporter": "python",
   "pygments_lexer": "ipython3",
   "version": "3.12.3"
  },
  "orig_nbformat": 4,
  "vscode": {
   "interpreter": {
    "hash": "5026d2d6e7aaaaba093def813beadff083d8733e4a511af01735cbabd156995d"
   }
  }
 },
 "nbformat": 4,
 "nbformat_minor": 2
}
