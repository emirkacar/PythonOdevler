{
 "cells": [
  {
   "attachments": {},
   "cell_type": "markdown",
   "metadata": {},
   "source": [
    "# Problem 1\n",
    "\n",
    "Şimdi beraber kullanıcılardan aldığımız verileri işleyerek, onlara hem çıktı verecek, hem de aldığımız ve hesapladığımız verileri ileride kullanabilmek adına kaydedeceğiz.\n",
    "\n",
    "\n",
    " **Bu bir veri giriş platformu olacak**\n",
    "\n",
    "\n",
    " * kullanıcıya kaç giriş yapacağını soracağız\n",
    "* kullanıcıdan isim-soyisim, yaş, boy, kilo bilgilerini alarak VKİ hesaplayacağız\n",
    "* ardından bunları sınıflara göre kaydedeceğiz bir dosyaya kaydedeceğiz\n",
    "\n",
    "\n",
    "Sınıflar ise şu şekilde: \n",
    "* 18, 5 kg/m.'nin altında olanlar: Zayıf\n",
    "* 18.5 – 24, 9 kg/m. arasında olanlar: Normal kilolu\n",
    "* 25 – 29, 9 kg/m. arasında olanlar: Fazla kilolu\n",
    "* 30 – 39, 9 kg/m. arasında olanlar: Obez\n",
    "* 40 kg/m.'nin üzerinde olanlar: İleri derecede obez (morbid obez), olarak görülür."
   ]
  },
  {
   "cell_type": "code",
   "execution_count": null,
   "metadata": {},
   "outputs": [],
   "source": [
    "\n",
    "\n"
   ]
  },
  {
   "attachments": {},
   "cell_type": "markdown",
   "metadata": {},
   "source": [
    "# Problem 2\n",
    "**YetBar - Smoothie Bank**\n",
    "---\n",
    "YetBar spor salonunun girişinde bulunan, insansız bir sağlıklı içecek otomatıdır. Kullanıcı çeşitli girdiler smoothie içeceğine koyacağı ürünleri belirleyebilir, fiyat hesaplaması yaptırabilir ya da sadece menüyü görüntüleyebilir.\n",
    "\n",
    "**Projenin Amacı:**\n",
    "\n",
    "*   Birbirini etkileyen ve bir kod içerisinde birden fazla defa başvurulacak fonksiyonların oluşturulup, \"fonksiyonel\" proglamlamak.\n",
    "*   Büyük programları yazarken, yazılımcı olarak yapabileceğimiz hatalardan kaçınmak için kontrol yöntemleri geliştirmek.\n",
    "*   Kullanıcı inputlarını ve yaptığımız hesapları, raporlamak/loglamak amacıyla kaydetmek.\n",
    "\n",
    "**Programdan Beklenen Çıktılar**\n",
    "* Program kullanıcıya temelde 2 farklı işlem yapma imkanı sağlar.\n",
    "> 1. Menüyü görüntüleme\n",
    "> 3. Satın alma\n",
    "* Satın alınan her içecek tarih, fiyat bilgisi ile kaydedilmeli ve her zaman ulaşılabilir olmalıdır.\n",
    "\n",
    "\n"
   ]
  },
  {
   "cell_type": "code",
   "execution_count": 10,
   "metadata": {},
   "outputs": [
    {
     "name": "stdout",
     "output_type": "stream",
     "text": [
      "init fonksiyonu calismistir.\n",
      "['Cola,Fanta,Ice Tea'] ['2024-07-17 21:14:21.034475 2024-07-17 21:14:21.034475 2024-07-17 21:14:21.034475'] {'Cola': 40, 'Fanta': 35, 'Ice Tea': 30} [] \n",
      "Cola urununden satin aldiniz.Kalan paraniz = 20\n"
     ]
    }
   ],
   "source": [
    "from datetime import datetime\n",
    "bugun = datetime.today()\n",
    "\n",
    "class YetBar:\n",
    "    \n",
    "    def __init__(self,icecekler,tarih,fiyatBilgisi,alisverisSepeti): \n",
    "        self.tarih = tarih\n",
    "        self.fiyatBilgisi = fiyatBilgisi\n",
    "        self.icecekler=icecekler\n",
    "        self.alisverisSepeti = []\n",
    "        print(\"init fonksiyonu calismistir.\")\n",
    "\n",
    "    def satinAl(self,secim,paraMiktari):\n",
    "        for icecek,fiyat in self.fiyatBilgisi.items():\n",
    "            if(secim==icecek and paraMiktari>=fiyat):\n",
    "                self.alisverisSepeti.append(icecek)\n",
    "                paraMiktari -= fiyat\n",
    "                print(f\"{icecek} urununden satin aldiniz.Kalan paraniz = {paraMiktari}\")\n",
    "            else:\n",
    "                continue\n",
    "\n",
    "    def menuyuGoruntule(self):\n",
    "        print(f\"{self.icecekler} {self.tarih} {self.fiyatBilgisi} {self.alisverisSepeti} \")\n",
    "    \n",
    "\n",
    "icecek1 = YetBar([\"Cola,Fanta,Ice Tea\"],[f\"{bugun} {bugun} {bugun}\"],{\"Cola\":40,\"Fanta\":35,\"Ice Tea\":30},[])\n",
    "icecek1.menuyuGoruntule()\n",
    "icecek1.satinAl(\"Cola\",60)\n",
    "\n",
    "\n"
   ]
  }
 ],
 "metadata": {
  "kernelspec": {
   "display_name": "Python 3",
   "language": "python",
   "name": "python3"
  },
  "language_info": {
   "codemirror_mode": {
    "name": "ipython",
    "version": 3
   },
   "file_extension": ".py",
   "mimetype": "text/x-python",
   "name": "python",
   "nbconvert_exporter": "python",
   "pygments_lexer": "ipython3",
   "version": "3.12.3"
  },
  "orig_nbformat": 4,
  "vscode": {
   "interpreter": {
    "hash": "5026d2d6e7aaaaba093def813beadff083d8733e4a511af01735cbabd156995d"
   }
  }
 },
 "nbformat": 4,
 "nbformat_minor": 2
}
